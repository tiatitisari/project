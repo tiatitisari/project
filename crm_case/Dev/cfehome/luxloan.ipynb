{
 "cells": [
  {
   "cell_type": "code",
   "execution_count": null,
   "metadata": {},
   "outputs": [
    {
     "name": "stderr",
     "output_type": "stream",
     "text": [
      "<ipython-input-1-f89100544d82>:5: UserWarning: \n",
      "The dash_core_components package is deprecated. Please replace\n",
      "`import dash_core_components as dcc` with `from dash import dcc`\n",
      "  import dash_core_components as dcc\n",
      "<ipython-input-1-f89100544d82>:6: UserWarning: \n",
      "The dash_html_components package is deprecated. Please replace\n",
      "`import dash_html_components as html` with `from dash import html`\n",
      "  import dash_html_components as html\n"
     ]
    },
    {
     "name": "stdout",
     "output_type": "stream",
     "text": [
      "Dash is running on http://127.0.0.1:8050/\n",
      "\n",
      " * Serving Flask app \"__main__\" (lazy loading)\n",
      " * Environment: production\n",
      "\u001b[31m   WARNING: This is a development server. Do not use it in a production deployment.\u001b[0m\n",
      "\u001b[2m   Use a production WSGI server instead.\u001b[0m\n",
      " * Debug mode: off\n"
     ]
    },
    {
     "name": "stderr",
     "output_type": "stream",
     "text": [
      " * Running on http://127.0.0.1:8050/ (Press CTRL+C to quit)\n",
      "127.0.0.1 - - [08/Dec/2021 21:52:06] \"\u001b[37mGET / HTTP/1.1\u001b[0m\" 200 -\n",
      "127.0.0.1 - - [08/Dec/2021 21:52:08] \"\u001b[37mGET /_dash-layout HTTP/1.1\u001b[0m\" 200 -\n",
      "127.0.0.1 - - [08/Dec/2021 21:52:08] \"\u001b[37mGET /_dash-dependencies HTTP/1.1\u001b[0m\" 200 -\n",
      "127.0.0.1 - - [08/Dec/2021 21:52:08] \"\u001b[36mGET /_dash-component-suites/dash/dcc/async-dropdown.js HTTP/1.1\u001b[0m\" 304 -\n",
      "/Users/tiatitisari/opt/anaconda3/lib/python3.8/site-packages/pandas/core/ops/array_ops.py:253: FutureWarning:\n",
      "\n",
      "elementwise comparison failed; returning scalar instead, but in the future will perform elementwise comparison\n",
      "\n",
      "127.0.0.1 - - [08/Dec/2021 21:52:09] \"\u001b[37mPOST /_dash-update-component HTTP/1.1\u001b[0m\" 200 -\n",
      "127.0.0.1 - - [08/Dec/2021 21:52:09] \"\u001b[36mGET /_dash-component-suites/dash/dcc/async-graph.js HTTP/1.1\u001b[0m\" 304 -\n",
      "127.0.0.1 - - [08/Dec/2021 21:52:09] \"\u001b[36mGET /_dash-component-suites/dash/dcc/async-plotlyjs.js HTTP/1.1\u001b[0m\" 304 -\n",
      "127.0.0.1 - - [08/Dec/2021 21:52:14] \"\u001b[37mPOST /_dash-update-component HTTP/1.1\u001b[0m\" 200 -\n",
      "127.0.0.1 - - [08/Dec/2021 21:52:20] \"\u001b[37mPOST /_dash-update-component HTTP/1.1\u001b[0m\" 200 -\n",
      "127.0.0.1 - - [08/Dec/2021 21:52:24] \"\u001b[37mPOST /_dash-update-component HTTP/1.1\u001b[0m\" 200 -\n",
      "127.0.0.1 - - [08/Dec/2021 21:52:25] \"\u001b[37mPOST /_dash-update-component HTTP/1.1\u001b[0m\" 200 -\n",
      "127.0.0.1 - - [08/Dec/2021 21:52:27] \"\u001b[37mPOST /_dash-update-component HTTP/1.1\u001b[0m\" 200 -\n",
      "127.0.0.1 - - [08/Dec/2021 21:52:30] \"\u001b[37mPOST /_dash-update-component HTTP/1.1\u001b[0m\" 200 -\n",
      "127.0.0.1 - - [08/Dec/2021 21:52:32] \"\u001b[37mPOST /_dash-update-component HTTP/1.1\u001b[0m\" 200 -\n",
      "127.0.0.1 - - [08/Dec/2021 21:52:34] \"\u001b[37mPOST /_dash-update-component HTTP/1.1\u001b[0m\" 200 -\n",
      "127.0.0.1 - - [08/Dec/2021 21:52:37] \"\u001b[37mPOST /_dash-update-component HTTP/1.1\u001b[0m\" 200 -\n",
      "127.0.0.1 - - [08/Dec/2021 21:52:41] \"\u001b[37mPOST /_dash-update-component HTTP/1.1\u001b[0m\" 200 -\n",
      "127.0.0.1 - - [08/Dec/2021 21:53:19] \"\u001b[37mPOST /_dash-update-component HTTP/1.1\u001b[0m\" 200 -\n",
      "127.0.0.1 - - [08/Dec/2021 21:53:22] \"\u001b[37mPOST /_dash-update-component HTTP/1.1\u001b[0m\" 200 -\n"
     ]
    }
   ],
   "source": [
    "#1. Setting Environment (install all dependency like node, npm, building pipenv directory via terminal) and store dataset into same environment  \n",
    "#2. Import Library \n",
    "import dash                     # pip install dash\n",
    "from dash.dependencies import Input, Output, State\n",
    "import dash_core_components as dcc\n",
    "import dash_html_components as html\n",
    "import plotly.graph_objects as go \n",
    "import plotly.express as px     # pip install plotly==5.2.2\n",
    "import pandas as pd             # pip install pandas\n",
    "\n",
    "\n",
    "# 3. Reading Dataset into DataFrame \n",
    "df= pd.read_csv('LuxuryLoanPortfolio.csv',delimiter=',') #reading dataset\n",
    "df['funded_date'] = pd.to_datetime(df['funded_date']) #change funded date into date_time \n",
    "df['total_repayment']=df['payments']*df['total past payments'] #calculate total payment \n",
    "df['Year'] = df['funded_date'].apply(lambda x:x.year) #strip year from funded_date \n",
    "\n",
    "#4. Using external stylesheet \n",
    "external_stylesheets= ['https://codepen.io/chriddyp/pen/bWLwgP.css']\n",
    "app = dash.Dash(__name__, external_stylesheets=external_stylesheets)\n",
    "\n",
    "#5. Building HTML Component to control Dash Layout \n",
    "app.layout = html.Div([\n",
    "    html.H1(id = 'H1', children = 'Analytics Dashboard of Luxury Loan Portfolio 2012 -2019', style = {'textAlign':'center',\\\n",
    "                                            'marginTop':40,'marginBottom':40}),\n",
    "    html.Hr(),\n",
    "    html.P(\"Choose year:\"),\n",
    "    html.Div(html.Div([\n",
    "        dcc.Dropdown(id='Year', clearable=False,   #Create Dropdown based on Year\n",
    "                     value=\"2019\",\n",
    "                     options=[{'label': x, 'value': x} for x in\n",
    "                             sorted(df[\"Year\"].unique())]),\n",
    "    ],className=\"two columns\"),className=\"row\"),\n",
    "\n",
    "    html.Div(id=\"output-div\", children=[]),\n",
    "])\n",
    "\n",
    "@app.callback(Output(component_id=\"output-div\", component_property=\"children\"),\n",
    "              Input(component_id=\"Year\", component_property=\"value\")\n",
    ")\n",
    "\n",
    "#6. Building Graph Function \n",
    "def make_graphs(year_chosen): \n",
    "    # Histogram of funded amount per term length \n",
    "    df_hist =df[df['Year']==year_chosen]\n",
    "    fig_hist = px.histogram(df_hist,x ='duration months', nbins = 10, \n",
    "                           title = 'Distribution of Funded Amount per Duration Length')\n",
    "    fig_hist.update_xaxes(categoryorder = 'total descending')\n",
    "    fig_hist.update_layout(bargap=0.1)\n",
    "    \n",
    "    # Strip Chart of funded amount per purpose\n",
    "    fig_strip = px.strip(df_hist, x ='funded_amount',y='purpose', color = 'purpose', title = 'Funded Amount by Purpose')\n",
    "    \n",
    "    # BAR Chart of Loan Balance per Building Class Category \n",
    "    df_bar = df_hist.sort_values(by='loan balance', ascending = False)\n",
    "    fig_bar = px.bar(df_bar, x='loan balance', y='BUILDING CLASS CATEGORY', title = 'Loan Balance per Building Class Category')\n",
    "\n",
    "\n",
    "\n",
    "    return[\n",
    "        html.Div([\n",
    "            html.Div([dcc.Graph(figure=fig_hist)], className=\"six columns\"),\n",
    "            html.Div([dcc.Graph(figure=fig_strip)], className=\"six columns\"),\n",
    "            html.Div([dcc.Graph(figure = fig_bar)],className = 'twelve columns'),\n",
    "        ], className=\"row\"), \n",
    "    ]\n",
    "\n",
    "\n",
    "\n",
    "if __name__ == '__main__':\n",
    "    app.run_server(debug=False)"
   ]
  },
  {
   "cell_type": "code",
   "execution_count": null,
   "metadata": {},
   "outputs": [],
   "source": []
  }
 ],
 "metadata": {
  "kernelspec": {
   "display_name": "Python 3",
   "language": "python",
   "name": "python3"
  },
  "language_info": {
   "codemirror_mode": {
    "name": "ipython",
    "version": 3
   },
   "file_extension": ".py",
   "mimetype": "text/x-python",
   "name": "python",
   "nbconvert_exporter": "python",
   "pygments_lexer": "ipython3",
   "version": "3.8.3"
  }
 },
 "nbformat": 4,
 "nbformat_minor": 4
}
